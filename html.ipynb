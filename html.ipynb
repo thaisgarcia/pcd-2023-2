{
 "cells": [
  {
   "cell_type": "code",
   "execution_count": 1,
   "metadata": {},
   "outputs": [],
   "source": [
    "import requests\n",
    "from bs4 import BeautifulSoup"
   ]
  },
  {
   "cell_type": "code",
   "execution_count": 2,
   "metadata": {},
   "outputs": [],
   "source": [
    "html = \"\"\n",
    "url = \"https://www.ourinhos.sp.gov.br/portal/noticias\""
   ]
  },
  {
   "cell_type": "code",
   "execution_count": 3,
   "metadata": {},
   "outputs": [],
   "source": [
    "req = requests.get(url)"
   ]
  },
  {
   "cell_type": "code",
   "execution_count": 4,
   "metadata": {},
   "outputs": [],
   "source": [
    "html = BeautifulSoup(req.text, 'html.parser')"
   ]
  },
  {
   "cell_type": "code",
   "execution_count": 6,
   "metadata": {},
   "outputs": [
    {
     "name": "stdout",
     "output_type": "stream",
     "text": [
      "VAGAS PARA O DIA 21/11/2023\n",
      "VAGAS PARA O DIA 17/11/2023\n",
      "VAGAS PARA O DIA 16/11/2023\n",
      "Servidores acima de 40 anos já podem retirar encaminhamento para exame PSA\n",
      "Banco do Povo oferece crédito para empreendedores afetados pela tempestade em Ourinhos\n",
      "Universitários de Arquitetura em Assis visitam Museu Histórico Pedagógico\n",
      "Museus ourinhenses recebem visita de alunos de Piraju\n",
      "Secretaria de Desenvolvimento Econômico e UniFio encerram primeira edição do projeto Meu Primeiro Emprego\n",
      "Secretaria de Desenvolvimento Econômico participou da Feira de Profissões da UniFIO com informações sobre...\n",
      "VAGAS PARA O DIA 14/11/2023\n",
      "Prefeitura de Ourinhos oferece exames preventivos contra o câncer de próstata em todas UBS e CTA/COAS\n",
      "VAGAS PARA O DIA 13/11/2023\n",
      "Festival Dança Ourinhos promete encantar o público com uma programação diversificada\n",
      "Prefeitura avança com instalação de iluminação de LED nos Jardins Eldorado e Santa Fé\n",
      "Prefeitura irá oferecer transporte para pessoas com deficiência prestigiarem o Festival Dança Ourinhos\n",
      "VAGAS PARA O DIA 08/11/2023\n",
      "VAGAS PARA O DIA 07/11/2023\n",
      "Referência Regional: Restaurante Popular recebe visita técnica de ex-vereador de Cambará\n",
      "Secretaria de Desenvolvimento Econômico realiza rodas de conversa sobre Outubro Rosa\n",
      "Secretaria de Desenvolvimento Econômico, Trabalho e Turismo teve programação especial para comemorar o Dia das Crianças\n",
      "Prefeitura de Ourinhos realiza melhorias na trilha do Parque Ecológico\n",
      "Comunicado\n",
      "SEDETT, Educação e SENAC viabilizam estudos para reestruturação do Museu Histórico e Pedagógico\n",
      "Cemitério Municipal terá programação de missas e cultos no Dia de Finados\n",
      "Ourinhos sediou o 2º Encontro Regional de Bicicletas Antigas no domingo\n",
      "Trio de Danças Urbanas Adulto da Escola de Bailado conquista prêmio no maior festival de Hip Hop da América Latina\n",
      "Festa em comemoração ao Dia da Criança acontece neste sábado, 28\n",
      "Prefeitura de Ourinhos realiza 2ª Noite do Terror nos dias 27 e 28 de outubro\n",
      "6ª edição do Festival de Rolimã resgata a nostalgia e entusiasma competidores e famílias\n",
      "Prorrogado até o dia 14 de novembro o prazo para adesão ao Refis 2023\n"
     ]
    }
   ],
   "source": [
    "for kw in html.findAll('div', attrs={'class': 'ntc_titulo_noticia sw_lato_black'}):\n",
    "    print(kw.text)"
   ]
  }
 ],
 "metadata": {
  "kernelspec": {
   "display_name": "Python 3",
   "language": "python",
   "name": "python3"
  },
  "language_info": {
   "codemirror_mode": {
    "name": "ipython",
    "version": 3
   },
   "file_extension": ".py",
   "mimetype": "text/x-python",
   "name": "python",
   "nbconvert_exporter": "python",
   "pygments_lexer": "ipython3",
   "version": "3.10.8"
  }
 },
 "nbformat": 4,
 "nbformat_minor": 2
}
