{
 "cells": [
  {
   "cell_type": "code",
   "execution_count": 1,
   "metadata": {},
   "outputs": [],
   "source": [
    "import requests\n",
    "import json\n",
    "import xml.etree.ElementTree as ET"
   ]
  },
  {
   "cell_type": "code",
   "execution_count": 2,
   "metadata": {},
   "outputs": [],
   "source": [
    "url = \"https://viacep.com.br/ws/19904602/json/\""
   ]
  },
  {
   "cell_type": "code",
   "execution_count": 3,
   "metadata": {},
   "outputs": [],
   "source": [
    "req = requests.get(url)"
   ]
  },
  {
   "cell_type": "code",
   "execution_count": 4,
   "metadata": {},
   "outputs": [
    {
     "data": {
      "text/plain": [
       "{'cep': '19904-602',\n",
       " 'logradouro': 'Rua João Batista Monteiro',\n",
       " 'complemento': '',\n",
       " 'bairro': 'Jardim Nossa Senhora Aparecida',\n",
       " 'localidade': 'Ourinhos',\n",
       " 'uf': 'SP',\n",
       " 'ibge': '3534708',\n",
       " 'gia': '4959',\n",
       " 'ddd': '14',\n",
       " 'siafi': '6795'}"
      ]
     },
     "execution_count": 4,
     "metadata": {},
     "output_type": "execute_result"
    }
   ],
   "source": [
    "json.loads(req.content)"
   ]
  },
  {
   "cell_type": "code",
   "execution_count": 5,
   "metadata": {},
   "outputs": [],
   "source": [
    "url = \"https://viacep.com.br/ws/19904602/xml/\""
   ]
  },
  {
   "cell_type": "code",
   "execution_count": 6,
   "metadata": {},
   "outputs": [],
   "source": [
    "req = requests.get(url)"
   ]
  },
  {
   "cell_type": "code",
   "execution_count": 7,
   "metadata": {},
   "outputs": [
    {
     "data": {
      "text/plain": [
       "b'<?xml version=\"1.0\" encoding=\"UTF-8\"?>\\n<xmlcep>\\n  <cep>19904-602</cep>\\n  <logradouro>Rua Jo\\xc3\\xa3o Batista Monteiro</logradouro>\\n  <complemento></complemento>\\n  <bairro>Jardim Nossa Senhora Aparecida</bairro>\\n  <localidade>Ourinhos</localidade>\\n  <uf>SP</uf>\\n  <ibge>3534708</ibge>\\n  <gia>4959</gia>\\n  <ddd>14</ddd>\\n  <siafi>6795</siafi>\\n</xmlcep>'"
      ]
     },
     "execution_count": 7,
     "metadata": {},
     "output_type": "execute_result"
    }
   ],
   "source": [
    "req.content"
   ]
  }
 ],
 "metadata": {
  "kernelspec": {
   "display_name": "Python 3",
   "language": "python",
   "name": "python3"
  },
  "language_info": {
   "codemirror_mode": {
    "name": "ipython",
    "version": 3
   },
   "file_extension": ".py",
   "mimetype": "text/x-python",
   "name": "python",
   "nbconvert_exporter": "python",
   "pygments_lexer": "ipython3",
   "version": "3.10.8"
  }
 },
 "nbformat": 4,
 "nbformat_minor": 2
}
